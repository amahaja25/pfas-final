{
 "cells": [
  {
   "cell_type": "code",
   "execution_count": 1,
   "id": "c3395b2a-5d5c-48cf-86e4-c384d1c90dd8",
   "metadata": {},
   "outputs": [
    {
     "name": "stdout",
     "output_type": "stream",
     "text": [
      "Requirement already satisfied: esridump in /Library/Frameworks/Python.framework/Versions/3.12/lib/python3.12/site-packages (1.13.0)\n",
      "Collecting geopandas\n",
      "  Using cached geopandas-1.0.1-py3-none-any.whl.metadata (2.2 kB)\n",
      "Requirement already satisfied: requests in /Library/Frameworks/Python.framework/Versions/3.12/lib/python3.12/site-packages (from esridump) (2.32.3)\n",
      "Requirement already satisfied: six in /Library/Frameworks/Python.framework/Versions/3.12/lib/python3.12/site-packages (from esridump) (1.16.0)\n",
      "Requirement already satisfied: numpy>=1.22 in /Library/Frameworks/Python.framework/Versions/3.12/lib/python3.12/site-packages (from geopandas) (1.26.4)\n",
      "Collecting pyogrio>=0.7.2 (from geopandas)\n",
      "  Using cached pyogrio-0.10.0-cp312-cp312-macosx_12_0_arm64.whl.metadata (5.5 kB)\n",
      "Requirement already satisfied: packaging in /Library/Frameworks/Python.framework/Versions/3.12/lib/python3.12/site-packages (from geopandas) (23.2)\n",
      "Requirement already satisfied: pandas>=1.4.0 in /Library/Frameworks/Python.framework/Versions/3.12/lib/python3.12/site-packages (from geopandas) (2.2.2)\n",
      "Collecting pyproj>=3.3.0 (from geopandas)\n",
      "  Using cached pyproj-3.7.1-cp312-cp312-macosx_14_0_arm64.whl.metadata (31 kB)\n",
      "Collecting shapely>=2.0.0 (from geopandas)\n",
      "  Using cached shapely-2.1.0-cp312-cp312-macosx_11_0_arm64.whl.metadata (6.8 kB)\n",
      "Requirement already satisfied: python-dateutil>=2.8.2 in /Library/Frameworks/Python.framework/Versions/3.12/lib/python3.12/site-packages (from pandas>=1.4.0->geopandas) (2.8.2)\n",
      "Requirement already satisfied: pytz>=2020.1 in /Library/Frameworks/Python.framework/Versions/3.12/lib/python3.12/site-packages (from pandas>=1.4.0->geopandas) (2024.1)\n",
      "Requirement already satisfied: tzdata>=2022.7 in /Library/Frameworks/Python.framework/Versions/3.12/lib/python3.12/site-packages (from pandas>=1.4.0->geopandas) (2024.1)\n",
      "Requirement already satisfied: certifi in /Library/Frameworks/Python.framework/Versions/3.12/lib/python3.12/site-packages (from pyogrio>=0.7.2->geopandas) (2024.8.30)\n",
      "Requirement already satisfied: charset-normalizer<4,>=2 in /Library/Frameworks/Python.framework/Versions/3.12/lib/python3.12/site-packages (from requests->esridump) (3.3.2)\n",
      "Requirement already satisfied: idna<4,>=2.5 in /Library/Frameworks/Python.framework/Versions/3.12/lib/python3.12/site-packages (from requests->esridump) (3.8)\n",
      "Requirement already satisfied: urllib3<3,>=1.21.1 in /Library/Frameworks/Python.framework/Versions/3.12/lib/python3.12/site-packages (from requests->esridump) (2.2.2)\n",
      "Using cached geopandas-1.0.1-py3-none-any.whl (323 kB)\n",
      "Using cached pyogrio-0.10.0-cp312-cp312-macosx_12_0_arm64.whl (15.1 MB)\n",
      "Using cached pyproj-3.7.1-cp312-cp312-macosx_14_0_arm64.whl (4.7 MB)\n",
      "Using cached shapely-2.1.0-cp312-cp312-macosx_11_0_arm64.whl (1.6 MB)\n",
      "Installing collected packages: shapely, pyproj, pyogrio, geopandas\n",
      "Successfully installed geopandas-1.0.1 pyogrio-0.10.0 pyproj-3.7.1 shapely-2.1.0\n",
      "\n",
      "\u001b[1m[\u001b[0m\u001b[34;49mnotice\u001b[0m\u001b[1;39;49m]\u001b[0m\u001b[39;49m A new release of pip is available: \u001b[0m\u001b[31;49m24.0\u001b[0m\u001b[39;49m -> \u001b[0m\u001b[32;49m25.1.1\u001b[0m\n",
      "\u001b[1m[\u001b[0m\u001b[34;49mnotice\u001b[0m\u001b[1;39;49m]\u001b[0m\u001b[39;49m To update, run: \u001b[0m\u001b[32;49mpip3 install --upgrade pip\u001b[0m\n",
      "Note: you may need to restart the kernel to use updated packages.\n"
     ]
    }
   ],
   "source": [
    "%pip install esridump geopandas"
   ]
  },
  {
   "cell_type": "code",
   "execution_count": 2,
   "id": "b569ad88",
   "metadata": {},
   "outputs": [
    {
     "name": "stdout",
     "output_type": "stream",
     "text": [
      "Fetched 2,012 features.\n"
     ]
    }
   ],
   "source": [
    "from esridump.dumper import EsriDumper\n",
    "import geopandas as gpd\n",
    "\n",
    "target_url = \"https://services1.arcgis.com/KUeKSLlMUcWvuPRM/arcgis/rest/services/Known_PFAS_Contamination_Sites_(May_2024)/FeatureServer/0/\"\n",
    "\n",
    "feature_data = list(EsriDumper(target_url))\n",
    "\n",
    "print(f'Fetched {len(feature_data):,} features.')\n",
    "\n",
    "geojson = {\n",
    "    'type': 'FeatureCollection',\n",
    "    'features': feature_data\n",
    "}\n",
    "\n",
    "gdf = gpd.GeoDataFrame.from_features(geojson)\n",
    "\n",
    "gdf.head()\n",
    "\n",
    "gdf['longitude'] = gdf.geometry.x\n",
    "gdf['latitude'] = gdf.geometry.y\n",
    "\n",
    "\n",
    "gdf.to_csv(\"pfas_sites_with_lat_long.csv\", index=False)\n",
    "\n",
    "\n",
    "\n",
    "\n",
    "\n",
    "\n"
   ]
  }
 ],
 "metadata": {
  "kernelspec": {
   "display_name": "Python 3",
   "language": "python",
   "name": "python3"
  },
  "language_info": {
   "codemirror_mode": {
    "name": "ipython",
    "version": 3
   },
   "file_extension": ".py",
   "mimetype": "text/x-python",
   "name": "python",
   "nbconvert_exporter": "python",
   "pygments_lexer": "ipython3",
   "version": "3.12.2"
  }
 },
 "nbformat": 4,
 "nbformat_minor": 5
}
